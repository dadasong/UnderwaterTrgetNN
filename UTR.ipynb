{
 "cells": [
  {
   "cell_type": "code",
   "execution_count": 58,
   "metadata": {
    "collapsed": true
   },
   "outputs": [],
   "source": [
    "#-*- coding:utf-8 -*-\n",
    "\n",
    "import os\n",
    "import struct\n",
    "import scipy.io as scio\n",
    "import numpy as np \n",
    "import pickle\n",
    "import gzip\n",
    "import binascii\n",
    "import pandas as pd\n",
    "import tensorflow as tf\n",
    "\n",
    "\n",
    "diver_path1 = ('G:/UnderwaterAcousticExperimentData/ActiveDiver')\n",
    "diver_path2 = ('G:/UnderwaterAcousticExperimentData/ActiveDiver/ActiveDiver4_15k_20k_30k_1ms')\n",
    "diver_path_p = ('G:/UnderwaterAcousticExperimentData/ActiveDiver/ActiveDiver1_p')\n",
    "\n",
    "NoTarget_path1 = ('G:/UnderwaterAcousticExperimentData/NoTarget/0909_DATA_1_15k_1ms')\n",
    "NoTarget_path2 = ('G:/UnderwaterAcousticExperimentData/NoTarget/0909_DATA_13_15k_1ms')\n",
    "\n",
    "OxygenCylinder_path1 = ('G:/UnderwaterAcousticExperimentData/OxygenCylinder/DATA5_6m_0_29k_cw_1ms_oxygen cylinder')\n",
    "OxygenCylinder_path2 = ('G:/UnderwaterAcousticExperimentData/OxygenCylinder/DATA6_6m_0_29k_cw_1ms_oxygen cylinder')\n",
    "\n",
    "diver_array = []\n",
    "diver_array_p = []\n",
    "\n",
    "NoTarget_array = []\n",
    "\n",
    "OxygenCylinder_array = []\n",
    "\n",
    "y0 = [0]*160000\n",
    "y1 = [1]*160000\n",
    "y2 = [2]*160000\n",
    "\n",
    "train_lable_list = y0 + y1 + y2\n",
    "vali_lable_list = [0]*64000 + [1]*64000 + [2]*64000\n",
    "test_lable_list = [0]*96000 + [1]*96000 + [2]*96000\n",
    "\n",
    "x_train = []\n",
    "x_vali = []\n",
    "x_test = []"
   ]
  },
  {
   "cell_type": "code",
   "execution_count": 59,
   "metadata": {
    "collapsed": true
   },
   "outputs": [],
   "source": [
    "#Data in diver_path1\n",
    "for files in os.listdir(diver_path1):\n",
    "\tif files.endswith(\".bin\"):\n",
    "\t\tdiver = open(diver_path1+'/'+files,\"rb\")\n",
    "\t\trecords = np.fromfile(diver)\n",
    "\t\tdiver_array.append(records)\n",
    "\n",
    "#Data in diver_path2\n",
    "for files in os.listdir(diver_path2):\n",
    "\tif files.endswith(\".bin\"):\n",
    "\t\tdiver = open(diver_path2+'/'+files,\"rb\")\n",
    "\t\trecords = np.fromfile(diver)\n",
    "\t\tdiver_array.append(records)\n",
    "        "
   ]
  },
  {
   "cell_type": "code",
   "execution_count": 60,
   "metadata": {
    "collapsed": true
   },
   "outputs": [],
   "source": [
    "diver_array = np.array(diver_array).reshape(8,206800000)\n",
    "diver_array = diver_array[:,:320000]"
   ]
  },
  {
   "cell_type": "code",
   "execution_count": 61,
   "metadata": {
    "collapsed": true
   },
   "outputs": [],
   "source": [
    "#Data in OxygenCylinder_path1\n",
    "for files in os.listdir(OxygenCylinder_path1):\n",
    "\tif files.endswith(\".bin\"):\n",
    "\t\tOxygenCylinder = open(OxygenCylinder_path1+'/'+files,\"rb\")\n",
    "\t\trecords = np.fromfile(OxygenCylinder)\n",
    "\t\tOxygenCylinder_array.append(records)\n",
    "\n",
    "#Data in OxygenCylinder_path2\n",
    "for files in os.listdir(OxygenCylinder_path2):\n",
    "\tif files.endswith(\".bin\"):\n",
    "\t\tOxygenCylinder = open(OxygenCylinder_path2+'/'+files,\"rb\")\n",
    "\t\trecords = np.fromfile(OxygenCylinder)\n",
    "\t\tOxygenCylinder_array.append(records)\n",
    "       "
   ]
  },
  {
   "cell_type": "code",
   "execution_count": 62,
   "metadata": {
    "collapsed": true
   },
   "outputs": [],
   "source": [
    "OxygenCylinder_array = np.array(OxygenCylinder_array).reshape(8,1000000)\n",
    "OxygenCylinder_array = OxygenCylinder_array[:,:320000]\n",
    "#OxygenCylinder_array.shape"
   ]
  },
  {
   "cell_type": "code",
   "execution_count": 63,
   "metadata": {
    "collapsed": true
   },
   "outputs": [],
   "source": [
    "#Data in NoTarget_path1\n",
    "for files in os.listdir(NoTarget_path1):\n",
    "\tif files.endswith(\".bin\"):\n",
    "\t\tNoTarget = open(NoTarget_path1+'/'+files,\"rb\")\n",
    "\t\trecords = np.fromfile(NoTarget)\n",
    "\t\tNoTarget_array.append(records)\n",
    "\n",
    "#Data in NoTarget_path2\n",
    "for files in os.listdir(NoTarget_path2):\n",
    "\tif files.endswith(\".bin\"):\n",
    "\t\tNoTarget = open(NoTarget_path2+'/'+files,\"rb\")\n",
    "\t\trecords = np.fromfile(NoTarget)\n",
    "\t\tNoTarget_array.append(records)\n",
    "    "
   ]
  },
  {
   "cell_type": "code",
   "execution_count": 64,
   "metadata": {
    "collapsed": true
   },
   "outputs": [],
   "source": [
    "NoTarget_array = np.array(NoTarget_array).reshape(8,800000)\n",
    "NoTarget_array = NoTarget_array[:,:320000]\n",
    "#NoTarget_array.shape"
   ]
  },
  {
   "cell_type": "code",
   "execution_count": 65,
   "metadata": {
    "collapsed": true
   },
   "outputs": [],
   "source": [
    "# import matplotlib.pyplot as plt\n",
    "# x1 = OxygenCylinder_array[0,:]\n",
    "# x2 = OxygenCylinder_array[1,:]\n",
    "# x3 = OxygenCylinder_array[2,:]\n",
    "# x4 = OxygenCylinder_array[3,:]\n",
    "# x5 = OxygenCylinder_array[4,:]\n",
    "# plt.plot(x1)\n",
    "# plt.show()\n",
    "# plt.plot(x2)\n",
    "# plt.show()\n",
    "# plt.plot(x3)\n",
    "# plt.show()\n",
    "# plt.plot(x4)\n",
    "# plt.show()\n",
    "# plt.plot(x5)\n",
    "# plt.show()\n",
    "#x.tolist().index(x.max())\n",
    "#x.max()"
   ]
  },
  {
   "cell_type": "code",
   "execution_count": 66,
   "metadata": {
    "collapsed": true
   },
   "outputs": [],
   "source": [
    "for i in range(160000):\n",
    "    x_train.append(diver_array[:,i])\n",
    "for i in range(160000):\n",
    "    x_train.append(OxygenCylinder_array[:,i])\n",
    "for i in range(160000):\n",
    "    x_train.append(NoTarget_array[:,i])\n",
    "#len(x_train)"
   ]
  },
  {
   "cell_type": "code",
   "execution_count": 67,
   "metadata": {
    "collapsed": true
   },
   "outputs": [],
   "source": [
    "for i in range(160000,224000):\n",
    "    x_vali.append(diver_array[:,i])\n",
    "for i in range(160000,224000):\n",
    "    x_vali.append(OxygenCylinder_array[:,i])\n",
    "for i in range(160000,224000):\n",
    "    x_vali.append(NoTarget_array[:,i])\n",
    "#len(x_vali)\n",
    "#type(x_train)"
   ]
  },
  {
   "cell_type": "code",
   "execution_count": 68,
   "metadata": {
    "collapsed": true
   },
   "outputs": [],
   "source": [
    "for i in range(224000,320000):\n",
    "    x_test.append(diver_array[:,i])\n",
    "for i in range(224000,320000):\n",
    "    x_test.append(OxygenCylinder_array[:,i])\n",
    "for i in range(224000,320000):\n",
    "    x_test.append(NoTarget_array[:,i])\n",
    "#len(x_test)"
   ]
  },
  {
   "cell_type": "code",
   "execution_count": 69,
   "metadata": {
    "collapsed": true
   },
   "outputs": [],
   "source": [
    "#RF-classifier\n",
    "# from sklearn.ensemble import RandomForestClassifier\n",
    "\n",
    "# x = x_train.append(x_vali)\n",
    "# y = train_lable_list.append(vali_lable_list)\n",
    "\n",
    "# RFclf = RandomForestClassifier(n_estimators =10)\n",
    "# RFclf.fit(x , y)"
   ]
  },
  {
   "cell_type": "code",
   "execution_count": 70,
   "metadata": {
    "scrolled": true
   },
   "outputs": [
    {
     "name": "stdout",
     "output_type": "stream",
     "text": [
      "Iteration 1, loss = 1.06227703\n",
      "Iteration 2, loss = 0.56970835\n",
      "Iteration 3, loss = 0.51066160\n",
      "Iteration 4, loss = 0.46609239\n",
      "Iteration 5, loss = 0.45091597\n",
      "Iteration 6, loss = 0.44686826\n",
      "Iteration 7, loss = 0.44560957\n",
      "Iteration 8, loss = 0.45718263\n",
      "Iteration 9, loss = 0.45076183\n",
      "Iteration 10, loss = 0.43864409\n",
      "Iteration 11, loss = 0.44210618\n",
      "Iteration 12, loss = 0.43364317\n",
      "Iteration 13, loss = 0.43605079\n",
      "Iteration 14, loss = 0.43471877\n",
      "Iteration 15, loss = 0.43017950\n",
      "Iteration 16, loss = 0.42492083\n",
      "Iteration 17, loss = 0.42550342\n",
      "Iteration 18, loss = 0.43745679\n",
      "Iteration 19, loss = 0.43267833\n",
      "Training loss did not improve more than tol=0.000100 for two consecutive epochs. Stopping.\n"
     ]
    },
    {
     "data": {
      "text/plain": [
       "MLPClassifier(activation='logistic', alpha=0.0001, batch_size='auto',\n",
       "       beta_1=0.9, beta_2=0.999, early_stopping=False, epsilon=1e-08,\n",
       "       hidden_layer_sizes=(100, 50, 100), learning_rate='constant',\n",
       "       learning_rate_init=0.01, max_iter=500, momentum=0.9,\n",
       "       nesterovs_momentum=True, power_t=0.5, random_state=None,\n",
       "       shuffle=True, solver='adam', tol=0.0001, validation_fraction=0.1,\n",
       "       verbose=True, warm_start=False)"
      ]
     },
     "execution_count": 70,
     "metadata": {},
     "output_type": "execute_result"
    }
   ],
   "source": [
    "#NN-classifier\n",
    "from sklearn.neural_network import MLPClassifier\n",
    "#import skflow\n",
    "\n",
    "x = np.array(x_train)\n",
    "y = np.array(train_lable_list)\n",
    "\n",
    "NNclf = MLPClassifier(activation = 'logistic',\n",
    "                      hidden_layer_sizes = (100,50,100),\n",
    "                    solver='adam',learning_rate_init = 0.01,\n",
    "                    max_iter = 500,verbose = True)\n",
    "NNclf.fit(x , y)\n",
    "\n",
    "# skclf = skflow.TensorFlowDNNClassifier(hidden_units = [10,5,10],n_classes = 3)\n",
    "# skclf.fit(x , y)"
   ]
  },
  {
   "cell_type": "code",
   "execution_count": 71,
   "metadata": {
    "collapsed": true
   },
   "outputs": [],
   "source": [
    "#指标\n",
    "y_predict = []\n",
    "diver_TP = 0 \n",
    "OxygenCylinder_TP = 0\n",
    "NoTarget_TP = 0\n",
    "\n",
    "diver_FP = 0\n",
    "OxygenCylinder_FP = 0\n",
    "NoTarget_FP = 0\n",
    "\n",
    "diver_FN = 0\n",
    "OxygenCylinder_FN = 0\n",
    "NoTarget_FN = 0\n",
    "\n",
    "diver_P = 0\n",
    "OxygenCylinder_P = 0            \n",
    "NoTarget_P = 0\n",
    "\n",
    "diver_R = 0\n",
    "OxygenCylinder_R = 0\n",
    "NoTarget_R = 0\n",
    "\n",
    "diver_F1 = 0\n",
    "OxygenCylinder_F1 = 0\n",
    "NoTarget_F1 = 0\n",
    "\n",
    "y_predict = NNclf.predict(x_vali)\n",
    "\n",
    "for i in range(192000):\n",
    "    if y_predict[i] == 0 and vali_lable_list[i] == 0:\n",
    "        diver_TP += 1\n",
    "    if y_predict[i] == 1 and vali_lable_list[i] == 1:\n",
    "        OxygenCylinder_TP += 1\n",
    "    if y_predict[i] == 2 and vali_lable_list[i] == 2:\n",
    "        NoTarget_TP += 1\n",
    "    if (vali_lable_list[i] == 1 or vali_lable_list[i] == 2) and y_predict[i] == 0:\n",
    "        diver_FP += 1\n",
    "    if (vali_lable_list[i] == 0 or vali_lable_list[i] == 2) and y_predict[i] == 1:\n",
    "        OxygenCylinder_FP += 1\n",
    "    if (vali_lable_list[i] == 0 or vali_lable_list[i] == 1) and y_predict[i] == 2:\n",
    "        NoTarget_FP += 1\n",
    "    if vali_lable_list[i] == 0 and (y_predict[i] == 1 or y_predict[i] == 2):\n",
    "        diver_FN += 1\n",
    "    if vali_lable_list[i] == 1 and (y_predict[i] == 0 or y_predict[i] == 2):\n",
    "        OxygenCylinder_FN += 1\n",
    "    if vali_lable_list[i] == 2 and (y_predict[i] == 0 or y_predict[i] == 1):\n",
    "        NoTarget_FN += 1\n",
    "\n",
    "diver_P = diver_TP/(diver_TP + diver_FP)\n",
    "OxygenCylinder_P = OxygenCylinder_TP/(OxygenCylinder_TP + OxygenCylinder_FP)\n",
    "NoTarget_P = NoTarget_TP/(NoTarget_TP + NoTarget_FP)\n",
    "\n",
    "diver_R = diver_TP/(diver_TP + diver_FN)\n",
    "OxygenCylinder_R = OxygenCylinder_TP/(OxygenCylinder_TP + OxygenCylinder_FN)\n",
    "NoTarget_R = NoTarget_TP/(NoTarget_TP + NoTarget_FN)\n",
    "\n",
    "diver_F1 = 2*diver_P*diver_R/(diver_P + diver_R)\n",
    "OxygenCylinder_F1 = 2*OxygenCylinder_P*OxygenCylinder_R/(OxygenCylinder_P + OxygenCylinder_R)\n",
    "NoTarget_F1 = 2*NoTarget_P*NoTarget_R/(NoTarget_P + NoTarget_R)\n"
   ]
  },
  {
   "cell_type": "code",
   "execution_count": 72,
   "metadata": {
    "collapsed": true
   },
   "outputs": [],
   "source": [
    "# from matplotlib import pyplot as plt\n",
    "\n",
    "# x_vali = np.array(x_vali)\n",
    "# vali_lable_list = np.array(vali_lable_list)\n",
    "# y_predict = np.array(y_predict)\n",
    "\n",
    "# plt.subplot(211)\n",
    "# plt.scatter(x_vali[:,0] , vali_lable_list)\n",
    "# plt.subplot(212)\n",
    "# plt.scatter(x_vali[:,0] , y_predict)\n",
    "# plt.show()\n",
    "#x_vali.shape"
   ]
  },
  {
   "cell_type": "code",
   "execution_count": 73,
   "metadata": {},
   "outputs": [
    {
     "data": {
      "text/plain": [
       "19"
      ]
     },
     "execution_count": 73,
     "metadata": {},
     "output_type": "execute_result"
    }
   ],
   "source": [
    "NNclf.n_iter_"
   ]
  },
  {
   "cell_type": "code",
   "execution_count": 74,
   "metadata": {},
   "outputs": [
    {
     "data": {
      "text/plain": [
       "(0.9557881148863584, 0.6755881447354917, 0.8901519013151188)"
      ]
     },
     "execution_count": 74,
     "metadata": {},
     "output_type": "execute_result"
    }
   ],
   "source": [
    "diver_P,OxygenCylinder_P,NoTarget_P"
   ]
  },
  {
   "cell_type": "code",
   "execution_count": 75,
   "metadata": {},
   "outputs": [
    {
     "data": {
      "text/plain": [
       "(0.9718125, 0.925671875, 0.54571875)"
      ]
     },
     "execution_count": 75,
     "metadata": {},
     "output_type": "execute_result"
    }
   ],
   "source": [
    "diver_R,OxygenCylinder_R,NoTarget_R"
   ]
  },
  {
   "cell_type": "code",
   "execution_count": 76,
   "metadata": {},
   "outputs": [
    {
     "data": {
      "text/plain": [
       "(0.9637337010838828, 0.7811010541165923, 0.676624433337208)"
      ]
     },
     "execution_count": 76,
     "metadata": {},
     "output_type": "execute_result"
    }
   ],
   "source": [
    "diver_F1,OxygenCylinder_F1,NoTarget_F1"
   ]
  },
  {
   "cell_type": "code",
   "execution_count": null,
   "metadata": {
    "collapsed": true
   },
   "outputs": [],
   "source": []
  }
 ],
 "metadata": {
  "kernelspec": {
   "display_name": "Python 3",
   "language": "python",
   "name": "python3"
  },
  "language_info": {
   "codemirror_mode": {
    "name": "ipython",
    "version": 3
   },
   "file_extension": ".py",
   "mimetype": "text/x-python",
   "name": "python",
   "nbconvert_exporter": "python",
   "pygments_lexer": "ipython3",
   "version": "3.6.1"
  }
 },
 "nbformat": 4,
 "nbformat_minor": 2
}
